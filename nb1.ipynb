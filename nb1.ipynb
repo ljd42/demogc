{
 "cells": [
  {
   "cell_type": "markdown",
   "id": "25c77ba1-b344-4767-a688-28de73ab0409",
   "metadata": {},
   "source": [
    "<a target=\"_blank\" href=\"https://colab.research.google.com/github/ljd42/demogc\">\n",
    "  <img src=\"https://colab.research.google.com/assets/colab-badge.svg\" alt=\"Open In Colab\"/>\n",
    "</a>"
   ]
  },
  {
   "cell_type": "code",
   "execution_count": 7,
   "id": "0ffc6fe7-ea08-4e6b-a647-367a819bac90",
   "metadata": {},
   "outputs": [],
   "source": [
    "filename=\"testABC.txt\""
   ]
  },
  {
   "cell_type": "code",
   "execution_count": 8,
   "id": "3086a4a3-7171-4303-9f32-8d53093a7316",
   "metadata": {},
   "outputs": [],
   "source": [
    "a = 123.456\n",
    "with open(filename, \"w\") as f:\n",
    "    print(f\"Test file\\n{a = }\\n\",file=f)\n"
   ]
  },
  {
   "cell_type": "code",
   "execution_count": null,
   "id": "24a187b9-c9f5-4945-a860-6c14c4927432",
   "metadata": {},
   "outputs": [],
   "source": []
  }
 ],
 "metadata": {
  "kernelspec": {
   "display_name": "Python 3 (ipykernel)",
   "language": "python",
   "name": "python3"
  },
  "language_info": {
   "codemirror_mode": {
    "name": "ipython",
    "version": 3
   },
   "file_extension": ".py",
   "mimetype": "text/x-python",
   "name": "python",
   "nbconvert_exporter": "python",
   "pygments_lexer": "ipython3",
   "version": "3.12.7"
  }
 },
 "nbformat": 4,
 "nbformat_minor": 5
}
